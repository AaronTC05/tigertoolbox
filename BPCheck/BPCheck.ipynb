{
    "metadata": {
        "kernelspec": {
            "name": "SQL",
            "display_name": "SQL",
            "language": "sql"
        },
        "language_info": {
            "name": "sql",
            "version": ""
        }
    },
    "nbformat_minor": 2,
    "nbformat": 4,
    "cells": [
        {
            "cell_type": "markdown",
            "source": "Best Practices and Performance Checks - pedro.lopes@microsoft.com (http://aka.ms/BPCheck)\r\n\r\nDESCRIPTION: This script checks for skews in the most common best practices from SQL Server 2005 onwards.\r\n\r\nDISCLAIMER:\r\nThis code is not supported under any Microsoft standard support program or service.\r\nThis code and information are provided \"AS IS\" without warranty of any kind, either expressed or implied.\r\nThe entire risk arising out of the use or performance of the script and documentation remains with you. \r\nFurthermore, Microsoft or the author shall not be liable for any damages you may sustain by using this information, whether direct, \r\nindirect, special, incidental or consequential, including, without limitation, damages for loss of business profits, business interruption, loss of business information \r\nor other pecuniary loss even if it has been advised of the possibility of such damages.\r\nRead all the implementation and usage notes thoroughly.\r\n\r\nREQUIREMENTS:\r\n- If not sysadmin, then you must be a member of MSDB SQLAgentOperatorRole role, or have SELECT permission on the sysalerts table in MSDB to run full scope of checks.\r\n- If not sysadmin, then you must be a member of the securityadmin server role, or have EXECUTE permission on the following extended sprocs to run full scope of checks: xp_enumerrorlogs, xp_readerrorlog, sp_readerrorlog.",
            "metadata": {}
        },
        {
            "cell_type": "markdown",
            "source": "OS Version and Architecture subsection",
            "metadata": {}
        },
        {
            "cell_type": "code",
            "source": "DECLARE @sqlcmd NVARCHAR(max), @params NVARCHAR(600), @sqlmajorver int\r\nSELECT @sqlmajorver = CONVERT(int, (@@microsoftversion / 0x1000000) & 0xff);\r\nSELECT @sqlminorver = CONVERT(int, (@@microsoftversion / 0x10000) & 0xff);\r\nSELECT @sqlbuild = CONVERT(int, @@microsoftversion & 0xffff);\r\n\r\nIF (@sqlmajorver >= 11 AND @sqlmajorver < 14) OR (@sqlmajorver = 10 AND @sqlminorver = 50 AND @sqlbuild >= 2500)\r\nBEGIN\r\n\tSET @sqlcmd = N'SELECT @ostypeOUT = ''Windows'', @osdistroOUT = ''Windows'', @osverOUT = CASE WHEN windows_release IN (''6.3'',''10.0'') AND (@@VERSION LIKE ''%Build 10586%'' OR @@VERSION LIKE ''%Build 14393%'') THEN ''10.0'' ELSE windows_release END, @osspOUT = windows_service_pack_level, @archOUT = CASE WHEN @@VERSION LIKE ''%<X64>%'' THEN 64 WHEN @@VERSION LIKE ''%<IA64>%'' THEN 128 ELSE 32 END FROM sys.dm_os_windows_info (NOLOCK)';\r\n\tSET @params = N'@osverOUT VARCHAR(5) OUTPUT, @ostypeOUT VARCHAR(10) OUTPUT, @osdistroOUT VARCHAR(20) OUTPUT, @osspOUT VARCHAR(25) OUTPUT, @archOUT smallint OUTPUT';\r\n\tEXECUTE sp_executesql @sqlcmd, @params, @osverOUT=@osver OUTPUT, @ostypeOUT=@ostype OUTPUT, @osdistroOUT=@osdistro OUTPUT, @osspOUT=@ossp OUTPUT, @archOUT=@arch OUTPUT;\r\nEND\r\nELSE IF @sqlmajorver >= 14\r\nBEGIN\r\n\tSET @sqlcmd = N'SELECT @ostypeOUT = host_platform, @osdistroOUT = host_distribution, @osverOUT = CASE WHEN host_platform = ''Windows'' AND host_release IN (''6.3'',''10.0'') THEN ''10.0'' ELSE host_release END, @osspOUT = host_service_pack_level, @archOUT = CASE WHEN @@VERSION LIKE ''%<X64>%'' THEN 64 ELSE 32 END FROM sys.dm_os_host_info (NOLOCK)';\r\n\tSET @params = N'@osverOUT VARCHAR(5) OUTPUT, @ostypeOUT VARCHAR(10) OUTPUT, @osdistroOUT VARCHAR(20) OUTPUT, @osspOUT VARCHAR(25) OUTPUT, @archOUT smallint OUTPUT';\r\n\tEXECUTE sp_executesql @sqlcmd, @params, @osverOUT=@osver OUTPUT, @ostypeOUT=@ostype OUTPUT, @osdistroOUT=@osdistro OUTPUT, @osspOUT=@ossp OUTPUT, @archOUT=@arch OUTPUT;\r\nEND\r\nELSE\r\nBEGIN\r\n\tBEGIN TRY\r\n\t\tDECLARE @str VARCHAR(500), @str2 VARCHAR(500), @str3 VARCHAR(500)\r\n\t\tDECLARE @sysinfo TABLE (id int, \r\n\t\t\t[Name] NVARCHAR(256), \r\n\t\t\tInternal_Value bigint, \r\n\t\t\tCharacter_Value NVARCHAR(256));\r\n\t\t\t\r\n\t\tINSERT INTO @sysinfo\r\n\t\tEXEC xp_msver;\r\n\t\t\r\n\t\tSELECT @osver = LEFT(Character_Value, CHARINDEX(' ', Character_Value)-1) -- 5.2 is WS2003; 6.0 is WS2008; 6.1 is WS2008R2; 6.2 is WS2012, 6.3 is WS2012R2, 6.3 (14396) is WS2016\r\n\t\tFROM @sysinfo\r\n\t\tWHERE [Name] LIKE 'WindowsVersion%';\r\n\t\t\r\n\t\tSELECT @arch = CASE WHEN RTRIM(Character_Value) LIKE '%x64%' OR RTRIM(Character_Value) LIKE '%AMD64%' THEN 64\r\n\t\t\tWHEN RTRIM(Character_Value) LIKE '%x86%' OR RTRIM(Character_Value) LIKE '%32%' THEN 32\r\n\t\t\tWHEN RTRIM(Character_Value) LIKE '%IA64%' THEN 128 END\r\n\t\tFROM @sysinfo\r\n\t\tWHERE [Name] LIKE 'Platform%';\r\n\t\t\r\n\t\tSET @str = (SELECT @@VERSION)\r\n\t\tSELECT @str2 = RIGHT(@str, LEN(@str)-CHARINDEX('Windows',@str) + 1)\r\n\t\tSELECT @str3 = RIGHT(@str2, LEN(@str2)-CHARINDEX(': ',@str2))\r\n\t\tSELECT @ossp = LTRIM(LEFT(@str3, CHARINDEX(')',@str3) -1))\r\n\t\tSET @ostype = 'Windows'\r\n\tEND TRY\r\n\tBEGIN CATCH\r\n\t\tSELECT ERROR_NUMBER() AS ErrorNumber, ERROR_MESSAGE() AS ErrorMessage;\r\n\t\tSELECT @ErrorMessage = 'Windows Version and Architecture subsection - Error raised in TRY block. ' + ERROR_MESSAGE()\r\n\t\tRAISERROR (@ErrorMessage, 16, 1);\r\n\tEND CATCH\r\nEND;\r\n\r\nDECLARE @machineinfo TABLE ([Value] NVARCHAR(256), [Data] NVARCHAR(256))\r\n\r\nIF @ostype = 'Windows'\r\nBEGIN\r\n\tINSERT INTO @machineinfo\r\n\tEXEC xp_instance_regread 'HKEY_LOCAL_MACHINE','HARDWARE\\DESCRIPTION\\System\\BIOS','SystemManufacturer';\r\n\tINSERT INTO @machineinfo\r\n\tEXEC xp_instance_regread 'HKEY_LOCAL_MACHINE','HARDWARE\\DESCRIPTION\\System\\BIOS','SystemProductName';\r\n\tINSERT INTO @machineinfo\r\n\tEXEC xp_instance_regread 'HKEY_LOCAL_MACHINE','HARDWARE\\DESCRIPTION\\System\\BIOS','SystemFamily';\r\n\tINSERT INTO @machineinfo\r\n\tEXEC xp_instance_regread 'HKEY_LOCAL_MACHINE','HARDWARE\\DESCRIPTION\\System\\BIOS','BIOSVendor';\r\n\tINSERT INTO @machineinfo\r\n\tEXEC xp_instance_regread 'HKEY_LOCAL_MACHINE','HARDWARE\\DESCRIPTION\\System\\BIOS','BIOSVersion';\r\n\tINSERT INTO @machineinfo\r\n\tEXEC xp_instance_regread 'HKEY_LOCAL_MACHINE','HARDWARE\\DESCRIPTION\\System\\BIOS','BIOSReleaseDate';\r\n\tINSERT INTO @machineinfo\r\n\tEXEC xp_instance_regread 'HKEY_LOCAL_MACHINE','HARDWARE\\DESCRIPTION\\System\\CentralProcessor\\0','ProcessorNameString';\r\nEND\r\n\r\nSELECT @SystemManufacturer = [Data] FROM @machineinfo WHERE [Value] = 'SystemManufacturer';\r\n\r\nSELECT 'Information' AS [Category], 'Machine' AS [Information], \r\n\tCASE @osver WHEN '5.2' THEN 'XP/WS2003'\r\n\t\tWHEN '6.0' THEN 'Vista/WS2008'\r\n\t\tWHEN '6.1' THEN 'W7/WS2008R2'\r\n\t\tWHEN '6.2' THEN 'W8/WS2012'\r\n\t\tWHEN '6.3' THEN 'W8.1/WS2012R2'\r\n\t\tWHEN '10.0' THEN 'W10/WS2016'\r\n\t\tELSE @ostype + ' ' + @osdistro\r\n\tEND AS [OS_Version],\r\n\tCASE WHEN @ostype = 'Windows' THEN @ossp ELSE @osver END AS [Service_Pack_Level],\r\n\t@arch AS [Architecture],\r\n\tSERVERPROPERTY('MachineName') AS [Machine_Name],\r\n\tSERVERPROPERTY('ComputerNamePhysicalNetBIOS') AS [NetBIOS_Name],\r\n\t@SystemManufacturer AS [System_Manufacturer],\r\n\t(SELECT [Data] FROM @machineinfo WHERE [Value] = 'SystemFamily') AS [System_Family],\r\n\t(SELECT [Data] FROM @machineinfo WHERE [Value] = 'SystemProductName') AS [System_ProductName],\r\n\t(SELECT [Data] FROM @machineinfo WHERE [Value] = 'BIOSVendor') AS [BIOS_Vendor],\r\n\t(SELECT [Data] FROM @machineinfo WHERE [Value] = 'BIOSVersion') AS [BIOS_Version],\r\n\t(SELECT [Data] FROM @machineinfo WHERE [Value] = 'BIOSReleaseDate') AS [BIOS_Release_Date],\r\n\t(SELECT [Data] FROM @machineinfo WHERE [Value] = 'ProcessorNameString') AS [Processor_Name];",
            "metadata": {},
            "outputs": [
                {
                    "output_type": "error",
                    "evalue": "Msg 137, Level 15, State 1, Line 3\r\nMust declare the scalar variable \"@sqlminorver\".",
                    "ename": "",
                    "traceback": []
                },
                {
                    "output_type": "error",
                    "evalue": "Msg 137, Level 15, State 1, Line 4\r\nMust declare the scalar variable \"@sqlbuild\".",
                    "ename": "",
                    "traceback": []
                },
                {
                    "output_type": "error",
                    "evalue": "Msg 137, Level 15, State 2, Line 6\r\nMust declare the scalar variable \"@sqlminorver\".",
                    "ename": "",
                    "traceback": []
                },
                {
                    "output_type": "error",
                    "evalue": "Msg 137, Level 15, State 2, Line 10\r\nMust declare the scalar variable \"@osver\".",
                    "ename": "",
                    "traceback": []
                },
                {
                    "output_type": "error",
                    "evalue": "Msg 137, Level 15, State 2, Line 16\r\nMust declare the scalar variable \"@osver\".",
                    "ename": "",
                    "traceback": []
                },
                {
                    "output_type": "error",
                    "evalue": "Msg 137, Level 15, State 1, Line 30\r\nMust declare the scalar variable \"@osver\".",
                    "ename": "",
                    "traceback": []
                },
                {
                    "output_type": "error",
                    "evalue": "Msg 137, Level 15, State 1, Line 34\r\nMust declare the scalar variable \"@arch\".",
                    "ename": "",
                    "traceback": []
                },
                {
                    "output_type": "error",
                    "evalue": "Msg 137, Level 15, State 1, Line 43\r\nMust declare the scalar variable \"@ossp\".",
                    "ename": "",
                    "traceback": []
                },
                {
                    "output_type": "error",
                    "evalue": "Msg 137, Level 15, State 1, Line 44\r\nMust declare the scalar variable \"@ostype\".",
                    "ename": "",
                    "traceback": []
                },
                {
                    "output_type": "error",
                    "evalue": "Msg 137, Level 15, State 1, Line 48\r\nMust declare the scalar variable \"@ErrorMessage\".",
                    "ename": "",
                    "traceback": []
                },
                {
                    "output_type": "error",
                    "evalue": "Msg 137, Level 15, State 2, Line 49\r\nMust declare the scalar variable \"@ErrorMessage\".",
                    "ename": "",
                    "traceback": []
                },
                {
                    "output_type": "error",
                    "evalue": "Msg 137, Level 15, State 2, Line 55\r\nMust declare the scalar variable \"@ostype\".",
                    "ename": "",
                    "traceback": []
                },
                {
                    "output_type": "error",
                    "evalue": "Msg 137, Level 15, State 1, Line 73\r\nMust declare the scalar variable \"@SystemManufacturer\".",
                    "ename": "",
                    "traceback": []
                },
                {
                    "output_type": "error",
                    "evalue": "Msg 137, Level 15, State 2, Line 76\r\nMust declare the scalar variable \"@osver\".",
                    "ename": "",
                    "traceback": []
                },
                {
                    "output_type": "error",
                    "evalue": "Msg 156, Level 15, State 1, Line 89\r\nIncorrect syntax near the keyword 'AS'.",
                    "ename": "",
                    "traceback": []
                },
                {
                    "output_type": "error",
                    "evalue": "Msg 156, Level 15, State 1, Line 90\r\nIncorrect syntax near the keyword 'AS'.",
                    "ename": "",
                    "traceback": []
                },
                {
                    "output_type": "error",
                    "evalue": "Msg 156, Level 15, State 1, Line 91\r\nIncorrect syntax near the keyword 'AS'.",
                    "ename": "",
                    "traceback": []
                },
                {
                    "output_type": "error",
                    "evalue": "Msg 156, Level 15, State 1, Line 92\r\nIncorrect syntax near the keyword 'AS'.",
                    "ename": "",
                    "traceback": []
                },
                {
                    "output_type": "error",
                    "evalue": "Msg 156, Level 15, State 1, Line 93\r\nIncorrect syntax near the keyword 'AS'.",
                    "ename": "",
                    "traceback": []
                },
                {
                    "output_type": "error",
                    "evalue": "Msg 156, Level 15, State 1, Line 94\r\nIncorrect syntax near the keyword 'AS'.",
                    "ename": "",
                    "traceback": []
                },
                {
                    "output_type": "display_data",
                    "data": {
                        "text/html": "Total execution time: 00:00:00.5017269"
                    },
                    "metadata": {}
                }
            ],
            "execution_count": 1
        }
    ]
}